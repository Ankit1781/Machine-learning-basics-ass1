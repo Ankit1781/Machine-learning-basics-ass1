{
 "cells": [
  {
   "cell_type": "markdown",
   "id": "e9b49a8d-6d05-43cf-9d30-79b0d3ed032e",
   "metadata": {},
   "source": [
    "# Q1- Explain the following with an example:\n",
    "  Artificial Intelligence: It is a smart application that can perforn it's own task without any human intervention.\n",
    "  e.g. Self deriving car, Alexa.\n",
    "  \n",
    "  Machine learning: It provide statstod to analyze visualize, Pridict models, forcasting.\n",
    "  e.g.:  If you repeatedly ask for Italian restaurants, the AI system learns your preferences and might start suggesting Italian restaurants as a default based on your history.\n",
    "  \n",
    "  deep learning: Deep learning is a subfield of artificial intelligence (AI) and machine learning that focuses on training artificial neural networks to learn from vast amounts of data. It is inspired by the structure and function of the human brain, where neural networks process information through interconnected neurons. \n",
    "  e.g.:  Image recognation, ChatBOOTs, Recommendation system."
   ]
  },
  {
   "cell_type": "markdown",
   "id": "455c6392-6a35-4192-8fe2-d6409630d026",
   "metadata": {},
   "source": [
    "# Q2- What is supervised learning? List some examples of supervised learning.\n",
    "  Supervised learning is a type of machine learning in which the algorithm learns from a labeled dataset, where each input data point is associated with its corresponding output or \"label.\" The goal of supervised learning is to enable the algorithm to learn a mapping between input features and their corresponding target labels so that it can make accurate predictions on new, unseen data.\n",
    "  e.g.: Email Filtering. Supervised learning is commonly used in email filtering to classify incoming emails as spam or legitimate.\n",
    "  \n",
    "Credit Scoring.\n",
    "Voice Recognition.\n",
    "Regression.\n",
    "Naive Bayes. \n",
    "Classification. \n",
    "Neutral Networks.\n",
    "Random Forest."
   ]
  },
  {
   "cell_type": "markdown",
   "id": "b60e43dd-3de1-42dc-9371-e0a2344c6186",
   "metadata": {},
   "source": [
    "# Q3- What is unsupervised learning? List some examples of unsupervised learning.\n",
    "  In unsupervised learning, the algorithm explores the data and tries to identify meaningful patterns or clusters, often through techniques like dimensionality reduction, clustering, and density estimation. Unlike supervised learning, there is no correct answer or target variable to compare the predictions against during training.\n",
    "  \n",
    "  examples are dimension reduction and clustering."
   ]
  },
  {
   "cell_type": "markdown",
   "id": "dc80db18-b004-475e-a13a-6f3a5febd1f7",
   "metadata": {},
   "source": [
    "# Q4- What is the difference between AI, ML, DL, and DS?\n",
    " AI is the broadest field, encompassing the development of intelligent machines that can perform human-like tasks. ML and DL are subsets of AI that focus on learning from data and patterns, particularly in complex and large datasets.\n",
    "\n",
    "ML is a broader field than DL and covers various algorithms, including decision trees, support vector machines, and k-nearest neighbors, in addition to deep learning.\n",
    "\n",
    "DL is a specialized subset of ML that utilizes deep neural networks to learn complex representations and patterns, often requiring substantial computational resources and large datasets.\n",
    "\n",
    "DS is a multidisciplinary field focused on extracting insights and knowledge from data, and it includes data cleaning, visualization, and analysis, as well as the application of ML and other techniques to derive value from data."
   ]
  },
  {
   "cell_type": "markdown",
   "id": "1af08d34-a330-4caf-ad0f-365a9a30245c",
   "metadata": {},
   "source": [
    "# Q5- What are the main differences betweenKn supervised, unsupervised, and semi-supervised learnind?\n",
    "  Supervised learning relies on labeled data, unsupervised learning uses unlabeled data, and semi-supervised learning combines both.\n",
    "  \n",
    "Supervised learning is used for tasks with clear input-output mapping, while unsupervised learning is more exploratory and used when the structure or patterns in the data are not known.\n",
    "\n",
    "Semi-supervised learning strikes a balance between the two, leveraging both labeled and unlabeled data to improve model performance and generalization, making it useful in scenarios where obtaining labeled data is challenging."
   ]
  },
  {
   "cell_type": "markdown",
   "id": "455258c4-8fc5-441f-8679-584b239ad1aa",
   "metadata": {},
   "source": [
    "# Q6- What is train, test and validation split? Explain the importance of each them.\n",
    "  Training Set:\n",
    "The training set is the largest portion of the dataset and is used to train the machine learning model. It consists of input data (features) and their corresponding output labels (targets) for supervised learning tasks. The model learns from this data by adjusting its internal parameters (weights and biases) based on the patterns and relationships it finds in the training set. \n",
    "\n",
    "Importance of the Training Set:\n",
    "\n",
    "It is the foundation of model development as the model learns from the training data.\n",
    "\n",
    "The model's performance and generalization depend on the quality and representativeness of the training data.\n",
    "\n",
    "A larger and diverse training set can help the model capture a broader range of patterns and improve its accuracy.\n",
    "\n",
    "\n",
    "Test Set:\n",
    "The test set is a separate portion of the dataset that the model has not seen during training. It is used to evaluate the model's performance and measure how well it can generalize to new, unseen data. The test set contains input data, and the true output labels are used to assess the model's predictions.\n",
    "\n",
    "Importance of the Test Set:\n",
    "\n",
    "It provides an unbiased evaluation of the model's performance on unseen data.\n",
    "\n",
    "By using a separate test set, it helps detect overfitting, which occurs when the model performs well on the training data but poorly on new data.\n",
    "\n",
    "\n",
    "Validation Set:\n",
    "The validation set is an additional subset of the data that is used during model development and hyperparameter tuning. It is used to fine-tune the model's hyperparameters, such as learning rates, regularization strengths, or the number of hidden layers in a neural network. \n",
    "\n",
    "Importance of the Validation Set:\n",
    "\n",
    "It helps prevent overfitting by providing a way to optimize the model without using the test set for tuning.\n",
    "\n",
    "The validation set's performance can guide the selection of the best-performing model and hyperparameters before evaluating it on the test set."
   ]
  },
  {
   "cell_type": "markdown",
   "id": "9927a8e5-5c70-4380-9886-1b20dead9ef5",
   "metadata": {},
   "source": [
    "# Q8. List down some commonly used supervised learning algorithms and unsupervised learning algorithms.\n",
    "\n",
    "Supervised Learning Algorithms:\n",
    "1. Linear Regression: A simple regression algorithm used for predicting continuous numeric values based on input features.\n",
    "2. Logistic Regression: Used for binary classification problems, where the output is a probability score between 0 and 1, representing the likelihood of belonging to a particular class.\n",
    "3. Decision Trees: Tree-like models that make decisions based on a series of rules to classify data or predict numeric values.\n",
    "4. Random Forest: An ensemble method that combines multiple decision trees to improve accuracy and reduce overfitting.\n",
    "5. Support Vector Machines (SVM): Used for both classification and regression tasks, SVM finds a hyperplane that best separates data points into different classes.\n",
    "6. k-Nearest Neighbors (KNN): A simple instance-based algorithm that predicts the label of a data point based on the labels of its k-nearest neighbors in the feature space.\n",
    "7. Neural Networks: Deep learning models consisting of multiple layers of interconnected neurons used for complex tasks such as image recognition and natural language processing.\n",
    "\n",
    "Unsupervised Learning Algorithms:\n",
    "1. k-Means Clustering: A popular clustering algorithm that partitions data points into k distinct clusters based on their similarities.\n",
    "2. Hierarchical Clustering: Builds a hierarchy of nested clusters, forming a tree-like structure known as a dendrogram.\n",
    "3. Gaussian Mixture Models (GMM): A probabilistic model used for clustering data points, assuming they belong to a mixture of several Gaussian distributions.\n",
    "4. Principal Component Analysis (PCA): A dimensionality reduction technique that finds the principal components (orthogonal axes) that explain the most variance in the data.\n",
    "5. t-Distributed Stochastic Neighbor Embedding (t-SNE): A non-linear dimensionality reduction technique used for visualizing high-dimensional data in a lower-dimensional space.\n",
    "6. Density-Based Spatial Clustering of Applications with Noise (DBSCAN): Clusters data points based on density and separates noise points.\n",
    "7. Autoencoders: Deep learning models used for unsupervised feature learning and dimensionality reduction.\n"
   ]
  },
  {
   "cell_type": "code",
   "execution_count": null,
   "id": "e34be54b-3585-429d-8686-1f303e3a101b",
   "metadata": {},
   "outputs": [],
   "source": []
  }
 ],
 "metadata": {
  "kernelspec": {
   "display_name": "Python 3 (ipykernel)",
   "language": "python",
   "name": "python3"
  },
  "language_info": {
   "codemirror_mode": {
    "name": "ipython",
    "version": 3
   },
   "file_extension": ".py",
   "mimetype": "text/x-python",
   "name": "python",
   "nbconvert_exporter": "python",
   "pygments_lexer": "ipython3",
   "version": "3.10.8"
  }
 },
 "nbformat": 4,
 "nbformat_minor": 5
}
